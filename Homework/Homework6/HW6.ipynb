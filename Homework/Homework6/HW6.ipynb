{
 "cells": [
  {
   "cell_type": "code",
   "execution_count": 10,
   "metadata": {},
   "outputs": [],
   "source": [
    "import newton_and_quasinewton_script as newt\n",
    "import hw6Module as hw\n",
    "import numpy as np\n",
    "import matplotlib.pyplot as plt\n",
    "import math\n",
    "from numpy.linalg import inv \n",
    "from numpy.linalg import norm"
   ]
  },
  {
   "cell_type": "markdown",
   "metadata": {},
   "source": [
    "<h2>Homework 6"
   ]
  },
  {
   "cell_type": "markdown",
   "metadata": {},
   "source": [
    "<h3>Problem 1)"
   ]
  },
  {
   "cell_type": "markdown",
   "metadata": {},
   "source": [
    "<h4>(i)"
   ]
  },
  {
   "cell_type": "code",
   "execution_count": 2,
   "metadata": {},
   "outputs": [],
   "source": [
    "def F1(x):\n",
    "    return np.array([x[0]**2+x[1]**2-4,np.exp(x[0])+x[1]-1])\n",
    "def J1(x):\n",
    "    return np.array([[2*x[0],2*x[1]],[np.exp(x[0]),1]])\n",
    "x01=np.array([1.0,1.0])"
   ]
  },
  {
   "cell_type": "code",
   "execution_count": 3,
   "metadata": {},
   "outputs": [
    {
     "name": "stderr",
     "output_type": "stream",
     "text": [
      "C:\\Users\\xman7\\AppData\\Local\\Temp\\ipykernel_16364\\1970405929.py:2: RuntimeWarning: overflow encountered in exp\n",
      "  return np.array([x[0]**2+x[1]**2-4,np.exp(x[0])+x[1]-1])\n"
     ]
    },
    {
     "ename": "ValueError",
     "evalue": "array must not contain infs or NaNs",
     "output_type": "error",
     "traceback": [
      "\u001b[1;31m---------------------------------------------------------------------------\u001b[0m",
      "\u001b[1;31mValueError\u001b[0m                                Traceback (most recent call last)",
      "Cell \u001b[1;32mIn[3], line 1\u001b[0m\n\u001b[1;32m----> 1\u001b[0m r1,rn1,nf1,nj1 \u001b[38;5;241m=\u001b[39m \u001b[43mnewt\u001b[49m\u001b[38;5;241;43m.\u001b[39;49m\u001b[43mlazy_newton_method_nd\u001b[49m\u001b[43m(\u001b[49m\u001b[43mF1\u001b[49m\u001b[43m,\u001b[49m\u001b[43mJ1\u001b[49m\u001b[43m,\u001b[49m\u001b[43mx01\u001b[49m\u001b[43m,\u001b[49m\u001b[38;5;241;43m1e-10\u001b[39;49m\u001b[43m,\u001b[49m\u001b[38;5;241;43m100\u001b[39;49m\u001b[43m)\u001b[49m\n",
      "File \u001b[1;32mc:\\Users\\xman7\\OneDrive - UCB-O365\\Documents\\APPM4600\\Homework\\Homework6\\newton_and_quasinewton_script.py:90\u001b[0m, in \u001b[0;36mlazy_newton_method_nd\u001b[1;34m(f, Jf, x0, tol, nmax, verb)\u001b[0m\n\u001b[0;32m     88\u001b[0m \u001b[38;5;28;01mif\u001b[39;00m verb:\n\u001b[0;32m     89\u001b[0m     \u001b[38;5;28mprint\u001b[39m(\u001b[38;5;124m\"\u001b[39m\u001b[38;5;124mFn = \u001b[39m\u001b[38;5;124m\"\u001b[39m,Fn)\n\u001b[1;32m---> 90\u001b[0m pn \u001b[38;5;241m=\u001b[39m \u001b[38;5;241m-\u001b[39m\u001b[43mlu_solve\u001b[49m\u001b[43m(\u001b[49m\u001b[43m(\u001b[49m\u001b[43mlu\u001b[49m\u001b[43m,\u001b[49m\u001b[43m \u001b[49m\u001b[43mpiv\u001b[49m\u001b[43m)\u001b[49m\u001b[43m,\u001b[49m\u001b[43m \u001b[49m\u001b[43mFn\u001b[49m\u001b[43m)\u001b[49m; \u001b[38;5;66;03m#We use lu solve instead of pn = -np.linalg.solve(Jn,Fn);\u001b[39;00m\n\u001b[0;32m     91\u001b[0m xn \u001b[38;5;241m=\u001b[39m xn \u001b[38;5;241m+\u001b[39m pn;\n\u001b[0;32m     92\u001b[0m npn \u001b[38;5;241m=\u001b[39m np\u001b[38;5;241m.\u001b[39mlinalg\u001b[38;5;241m.\u001b[39mnorm(pn); \u001b[38;5;66;03m#size of Newton step\u001b[39;00m\n",
      "File \u001b[1;32mc:\\Users\\xman7\\AppData\\Local\\Programs\\Python\\Python311\\Lib\\site-packages\\scipy\\linalg\\_decomp_lu.py:171\u001b[0m, in \u001b[0;36mlu_solve\u001b[1;34m(lu_and_piv, b, trans, overwrite_b, check_finite)\u001b[0m\n\u001b[0;32m    169\u001b[0m (lu, piv) \u001b[38;5;241m=\u001b[39m lu_and_piv\n\u001b[0;32m    170\u001b[0m \u001b[38;5;28;01mif\u001b[39;00m check_finite:\n\u001b[1;32m--> 171\u001b[0m     b1 \u001b[38;5;241m=\u001b[39m \u001b[43masarray_chkfinite\u001b[49m\u001b[43m(\u001b[49m\u001b[43mb\u001b[49m\u001b[43m)\u001b[49m\n\u001b[0;32m    172\u001b[0m \u001b[38;5;28;01melse\u001b[39;00m:\n\u001b[0;32m    173\u001b[0m     b1 \u001b[38;5;241m=\u001b[39m asarray(b)\n",
      "File \u001b[1;32mc:\\Users\\xman7\\AppData\\Local\\Programs\\Python\\Python311\\Lib\\site-packages\\numpy\\lib\\function_base.py:630\u001b[0m, in \u001b[0;36masarray_chkfinite\u001b[1;34m(a, dtype, order)\u001b[0m\n\u001b[0;32m    628\u001b[0m a \u001b[38;5;241m=\u001b[39m asarray(a, dtype\u001b[38;5;241m=\u001b[39mdtype, order\u001b[38;5;241m=\u001b[39morder)\n\u001b[0;32m    629\u001b[0m \u001b[38;5;28;01mif\u001b[39;00m a\u001b[38;5;241m.\u001b[39mdtype\u001b[38;5;241m.\u001b[39mchar \u001b[38;5;129;01min\u001b[39;00m typecodes[\u001b[38;5;124m'\u001b[39m\u001b[38;5;124mAllFloat\u001b[39m\u001b[38;5;124m'\u001b[39m] \u001b[38;5;129;01mand\u001b[39;00m \u001b[38;5;129;01mnot\u001b[39;00m np\u001b[38;5;241m.\u001b[39misfinite(a)\u001b[38;5;241m.\u001b[39mall():\n\u001b[1;32m--> 630\u001b[0m     \u001b[38;5;28;01mraise\u001b[39;00m \u001b[38;5;167;01mValueError\u001b[39;00m(\n\u001b[0;32m    631\u001b[0m         \u001b[38;5;124m\"\u001b[39m\u001b[38;5;124marray must not contain infs or NaNs\u001b[39m\u001b[38;5;124m\"\u001b[39m)\n\u001b[0;32m    632\u001b[0m \u001b[38;5;28;01mreturn\u001b[39;00m a\n",
      "\u001b[1;31mValueError\u001b[0m: array must not contain infs or NaNs"
     ]
    }
   ],
   "source": [
    "r1,rn1,nf1,nj1 = newt.lazy_newton_method_nd(F1,J1,x01,1e-10,100)"
   ]
  },
  {
   "cell_type": "markdown",
   "metadata": {},
   "source": [
    "This process diverges, and therefore has terrible performance."
   ]
  },
  {
   "cell_type": "code",
   "execution_count": null,
   "metadata": {},
   "outputs": [],
   "source": [
    "r2,rn2,nf2= newt.broyden_method_nd(F1,J1,x01,1e-10,100)"
   ]
  },
  {
   "cell_type": "code",
   "execution_count": null,
   "metadata": {},
   "outputs": [
    {
     "name": "stdout",
     "output_type": "stream",
     "text": [
      "[ 1.00416874 -1.72963729]\n",
      "22\n"
     ]
    }
   ],
   "source": [
    "print(r2)\n",
    "print(len(rn2))"
   ]
  },
  {
   "cell_type": "markdown",
   "metadata": {},
   "source": [
    "__________________________________________________________"
   ]
  },
  {
   "cell_type": "markdown",
   "metadata": {},
   "source": [
    "<h4>(ii)"
   ]
  },
  {
   "cell_type": "code",
   "execution_count": null,
   "metadata": {},
   "outputs": [],
   "source": [
    "x02=np.array([1,-1])\n",
    "r12,rn12,nf12,nj12 = newt.lazy_newton_method_nd(F1,J1,x02,1e-10,100)"
   ]
  },
  {
   "cell_type": "code",
   "execution_count": null,
   "metadata": {},
   "outputs": [
    {
     "name": "stdout",
     "output_type": "stream",
     "text": [
      "[ 1.00416874 -1.72963729]\n",
      "38\n"
     ]
    }
   ],
   "source": [
    "print(r12)\n",
    "print(len(rn12))"
   ]
  },
  {
   "cell_type": "code",
   "execution_count": null,
   "metadata": {},
   "outputs": [],
   "source": [
    "r22,rn22,nf22= newt.broyden_method_nd(F1,J1,x02,1e-10,100)"
   ]
  },
  {
   "cell_type": "code",
   "execution_count": null,
   "metadata": {},
   "outputs": [
    {
     "name": "stdout",
     "output_type": "stream",
     "text": [
      "[ 1.00416874 -1.72963729]\n",
      "15\n"
     ]
    }
   ],
   "source": [
    "print(r22)\n",
    "print(len(rn22))"
   ]
  },
  {
   "cell_type": "markdown",
   "metadata": {},
   "source": [
    "____________________________________________________"
   ]
  },
  {
   "cell_type": "markdown",
   "metadata": {},
   "source": [
    "<h4>(iii)"
   ]
  },
  {
   "cell_type": "code",
   "execution_count": 5,
   "metadata": {},
   "outputs": [],
   "source": [
    "x03=np.array([0,0])"
   ]
  },
  {
   "cell_type": "code",
   "execution_count": 6,
   "metadata": {},
   "outputs": [
    {
     "name": "stdout",
     "output_type": "stream",
     "text": [
      "lu =  [[1. 1.]\n",
      " [0. 0.]]\n",
      "piv =  [1 1]\n",
      "|--n--|----xn----|---|f(xn)|---|\n",
      "|--0--|0.0000000|4.000000000000|\n",
      "Fn =  [-4.  0.]\n",
      "|--1--|inf|inf|\n",
      "Fn =  [inf inf]\n"
     ]
    },
    {
     "name": "stderr",
     "output_type": "stream",
     "text": [
      "c:\\Users\\xman7\\OneDrive - UCB-O365\\Documents\\APPM4600\\Homework\\Homework6\\newton_and_quasinewton_script.py:70: LinAlgWarning: Diagonal number 2 is exactly zero. Singular matrix.\n",
      "  lu, piv = lu_factor(Jn);\n"
     ]
    },
    {
     "ename": "ValueError",
     "evalue": "array must not contain infs or NaNs",
     "output_type": "error",
     "traceback": [
      "\u001b[1;31m---------------------------------------------------------------------------\u001b[0m",
      "\u001b[1;31mValueError\u001b[0m                                Traceback (most recent call last)",
      "Cell \u001b[1;32mIn[6], line 1\u001b[0m\n\u001b[1;32m----> 1\u001b[0m r13,rn13,nf13,nj13 \u001b[38;5;241m=\u001b[39m \u001b[43mnewt\u001b[49m\u001b[38;5;241;43m.\u001b[39;49m\u001b[43mlazy_newton_method_nd\u001b[49m\u001b[43m(\u001b[49m\u001b[43mF1\u001b[49m\u001b[43m,\u001b[49m\u001b[43mJ1\u001b[49m\u001b[43m,\u001b[49m\u001b[43mx03\u001b[49m\u001b[43m,\u001b[49m\u001b[38;5;241;43m1e-10\u001b[39;49m\u001b[43m,\u001b[49m\u001b[38;5;241;43m100\u001b[39;49m\u001b[43m,\u001b[49m\u001b[43m \u001b[49m\u001b[43mverb\u001b[49m\u001b[43m \u001b[49m\u001b[38;5;241;43m=\u001b[39;49m\u001b[43m \u001b[49m\u001b[38;5;28;43;01mTrue\u001b[39;49;00m\u001b[43m)\u001b[49m\n",
      "File \u001b[1;32mc:\\Users\\xman7\\OneDrive - UCB-O365\\Documents\\APPM4600\\Homework\\Homework6\\newton_and_quasinewton_script.py:90\u001b[0m, in \u001b[0;36mlazy_newton_method_nd\u001b[1;34m(f, Jf, x0, tol, nmax, verb)\u001b[0m\n\u001b[0;32m     88\u001b[0m \u001b[38;5;28;01mif\u001b[39;00m verb:\n\u001b[0;32m     89\u001b[0m     \u001b[38;5;28mprint\u001b[39m(\u001b[38;5;124m\"\u001b[39m\u001b[38;5;124mFn = \u001b[39m\u001b[38;5;124m\"\u001b[39m,Fn)\n\u001b[1;32m---> 90\u001b[0m pn \u001b[38;5;241m=\u001b[39m \u001b[38;5;241m-\u001b[39m\u001b[43mlu_solve\u001b[49m\u001b[43m(\u001b[49m\u001b[43m(\u001b[49m\u001b[43mlu\u001b[49m\u001b[43m,\u001b[49m\u001b[43m \u001b[49m\u001b[43mpiv\u001b[49m\u001b[43m)\u001b[49m\u001b[43m,\u001b[49m\u001b[43m \u001b[49m\u001b[43mFn\u001b[49m\u001b[43m)\u001b[49m; \u001b[38;5;66;03m#We use lu solve instead of pn = -np.linalg.solve(Jn,Fn);\u001b[39;00m\n\u001b[0;32m     91\u001b[0m xn \u001b[38;5;241m=\u001b[39m xn \u001b[38;5;241m+\u001b[39m pn;\n\u001b[0;32m     92\u001b[0m npn \u001b[38;5;241m=\u001b[39m np\u001b[38;5;241m.\u001b[39mlinalg\u001b[38;5;241m.\u001b[39mnorm(pn); \u001b[38;5;66;03m#size of Newton step\u001b[39;00m\n",
      "File \u001b[1;32mc:\\Users\\xman7\\AppData\\Local\\Programs\\Python\\Python311\\Lib\\site-packages\\scipy\\linalg\\_decomp_lu.py:171\u001b[0m, in \u001b[0;36mlu_solve\u001b[1;34m(lu_and_piv, b, trans, overwrite_b, check_finite)\u001b[0m\n\u001b[0;32m    169\u001b[0m (lu, piv) \u001b[38;5;241m=\u001b[39m lu_and_piv\n\u001b[0;32m    170\u001b[0m \u001b[38;5;28;01mif\u001b[39;00m check_finite:\n\u001b[1;32m--> 171\u001b[0m     b1 \u001b[38;5;241m=\u001b[39m \u001b[43masarray_chkfinite\u001b[49m\u001b[43m(\u001b[49m\u001b[43mb\u001b[49m\u001b[43m)\u001b[49m\n\u001b[0;32m    172\u001b[0m \u001b[38;5;28;01melse\u001b[39;00m:\n\u001b[0;32m    173\u001b[0m     b1 \u001b[38;5;241m=\u001b[39m asarray(b)\n",
      "File \u001b[1;32mc:\\Users\\xman7\\AppData\\Local\\Programs\\Python\\Python311\\Lib\\site-packages\\numpy\\lib\\function_base.py:630\u001b[0m, in \u001b[0;36masarray_chkfinite\u001b[1;34m(a, dtype, order)\u001b[0m\n\u001b[0;32m    628\u001b[0m a \u001b[38;5;241m=\u001b[39m asarray(a, dtype\u001b[38;5;241m=\u001b[39mdtype, order\u001b[38;5;241m=\u001b[39morder)\n\u001b[0;32m    629\u001b[0m \u001b[38;5;28;01mif\u001b[39;00m a\u001b[38;5;241m.\u001b[39mdtype\u001b[38;5;241m.\u001b[39mchar \u001b[38;5;129;01min\u001b[39;00m typecodes[\u001b[38;5;124m'\u001b[39m\u001b[38;5;124mAllFloat\u001b[39m\u001b[38;5;124m'\u001b[39m] \u001b[38;5;129;01mand\u001b[39;00m \u001b[38;5;129;01mnot\u001b[39;00m np\u001b[38;5;241m.\u001b[39misfinite(a)\u001b[38;5;241m.\u001b[39mall():\n\u001b[1;32m--> 630\u001b[0m     \u001b[38;5;28;01mraise\u001b[39;00m \u001b[38;5;167;01mValueError\u001b[39;00m(\n\u001b[0;32m    631\u001b[0m         \u001b[38;5;124m\"\u001b[39m\u001b[38;5;124marray must not contain infs or NaNs\u001b[39m\u001b[38;5;124m\"\u001b[39m)\n\u001b[0;32m    632\u001b[0m \u001b[38;5;28;01mreturn\u001b[39;00m a\n",
      "\u001b[1;31mValueError\u001b[0m: array must not contain infs or NaNs"
     ]
    }
   ],
   "source": [
    "r13,rn13,nf13,nj13 = newt.lazy_newton_method_nd(F1,J1,x03,1e-10,100, verb = True)"
   ]
  },
  {
   "cell_type": "markdown",
   "metadata": {},
   "source": [
    "The lazy newton method diverges again."
   ]
  },
  {
   "cell_type": "code",
   "execution_count": 7,
   "metadata": {},
   "outputs": [],
   "source": [
    "r23,rn23,nf23= newt.broyden_method_nd(F1,J1,x03,1e-10,100)"
   ]
  },
  {
   "cell_type": "code",
   "execution_count": 8,
   "metadata": {},
   "outputs": [
    {
     "name": "stdout",
     "output_type": "stream",
     "text": [
      "[-1.81626407  0.8373678 ]\n",
      "22\n"
     ]
    }
   ],
   "source": [
    "print(r23)\n",
    "print(len(rn23))"
   ]
  },
  {
   "cell_type": "markdown",
   "metadata": {},
   "source": [
    "This $X_0$ gives a new root for the system using broyden compared to the other two initial conditions."
   ]
  },
  {
   "cell_type": "markdown",
   "metadata": {},
   "source": [
    "The Broyden method is much better in this case than the lazy newton method, but neither is better than newtons original in terms of number of iterations."
   ]
  },
  {
   "cell_type": "markdown",
   "metadata": {},
   "source": [
    "<h3>Problem 2"
   ]
  },
  {
   "cell_type": "markdown",
   "metadata": {},
   "source": []
  },
  {
   "cell_type": "code",
   "execution_count": null,
   "metadata": {},
   "outputs": [],
   "source": [
    "def F2(x):\n",
    "\n",
    "    F = np.zeros(3)\n",
    "    F[0] = x[0] +math.cos(x[0]*x[1]*x[2])-1.\n",
    "    F[1] = (1.-x[0])**(0.25) + x[1] +0.05*x[2]**2 -0.15*x[2]-1\n",
    "    F[2] = -x[0]**2-0.1*x[1]**2 +0.01*x[1]+x[2] -1\n",
    "    return F\n",
    "\n",
    "def J2(x): \n",
    "\n",
    "    J =np.array([[1.+x[1]*x[2]*math.sin(x[0]*x[1]*x[2]),x[0]*x[2]*math.sin(x[0]*x[1]*x[2]),x[1]*x[0]*math.sin(x[0]*x[1]*x[2])],\n",
    "          [-0.25*(1-x[0])**(-0.75),1,0.1*x[2]-0.15],\n",
    "          [-2*x[0],-0.2*x[1]+0.01,1]])\n",
    "    return J\n",
    "\n",
    "def G2(x):\n",
    "\n",
    "    F = F2(x)\n",
    "    G = F[0]**2 + F[1]**2 + F[2]**2\n",
    "    return G\n",
    "\n",
    "def gradG2(x):\n",
    "    \n",
    "    \n",
    "    gradG = np.transpose(J2[x]).dot(F2[x])\n",
    "    return gradG\n",
    "\n",
    "x21 = np.array([0,0])"
   ]
  },
  {
   "cell_type": "code",
   "execution_count": 11,
   "metadata": {},
   "outputs": [
    {
     "ename": "AttributeError",
     "evalue": "module 'hw6Module' has no attribute 'newton_method_nd'",
     "output_type": "error",
     "traceback": [
      "\u001b[1;31m---------------------------------------------------------------------------\u001b[0m",
      "\u001b[1;31mAttributeError\u001b[0m                            Traceback (most recent call last)",
      "Cell \u001b[1;32mIn[11], line 1\u001b[0m\n\u001b[1;32m----> 1\u001b[0m r3,rn3,nf3,nj3 \u001b[38;5;241m=\u001b[39m \u001b[43mhw\u001b[49m\u001b[38;5;241;43m.\u001b[39;49m\u001b[43mnewton_method_nd\u001b[49m(F2,J2,x21,\u001b[38;5;241m1e-6\u001b[39m,\u001b[38;5;241m100\u001b[39m)\n",
      "\u001b[1;31mAttributeError\u001b[0m: module 'hw6Module' has no attribute 'newton_method_nd'"
     ]
    }
   ],
   "source": [
    "r3,rn3,nf3,nj3 = hw.newton_method_nd(F2,J2,x21,1e-6,100)"
   ]
  },
  {
   "cell_type": "code",
   "execution_count": null,
   "metadata": {},
   "outputs": [],
   "source": [
    "hw.SteepestDescent(x21,1e-6,100)"
   ]
  }
 ],
 "metadata": {
  "kernelspec": {
   "display_name": "Python 3",
   "language": "python",
   "name": "python3"
  },
  "language_info": {
   "codemirror_mode": {
    "name": "ipython",
    "version": 3
   },
   "file_extension": ".py",
   "mimetype": "text/x-python",
   "name": "python",
   "nbconvert_exporter": "python",
   "pygments_lexer": "ipython3",
   "version": "3.11.0"
  }
 },
 "nbformat": 4,
 "nbformat_minor": 2
}
