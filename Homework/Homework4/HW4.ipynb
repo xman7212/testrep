{
 "cells": [
  {
   "cell_type": "markdown",
   "metadata": {},
   "source": [
    "<h2>Homework 4"
   ]
  },
  {
   "cell_type": "markdown",
   "metadata": {},
   "source": [
    "Setup:"
   ]
  },
  {
   "cell_type": "code",
   "execution_count": 1,
   "metadata": {},
   "outputs": [],
   "source": [
    "import numpy as np\n",
    "import scipy as sp\n",
    "import matplotlib.pyplot as plt\n",
    "import newton_method_script as newton\n",
    "import secant_method_script as secant\n",
    "def driver(F='Nan',A='Nan',B='Nan',tol='Nan'):\n",
    "    # use routines\n",
    "    f = lambda x: (x-1)*x**2\n",
    "    a = 0.5\n",
    "    b = 2\n",
    "\n",
    "    if F =='Nan':\n",
    "        F=f\n",
    "    if A =='Nan':\n",
    "        A=a\n",
    "    if B =='Nan':\n",
    "        B=b\n",
    "\n",
    "    # f = lambda x: np.sin(x)\n",
    "    # a = 0.1\n",
    "    # b = np.pi+0.1\n",
    "    if tol == 'Nan':\n",
    "    \n",
    "        tol = 1e-5\n",
    "    [astar,ier,count] = bisection(F,A,B,tol)\n",
    "    print('the approximate root is',astar)\n",
    "    print('the error message reads:',ier)\n",
    "    print(\"The number of iterations is:\",count)\n",
    "    print('f(astar) =', F(astar))\n",
    "# define routines\n",
    "def bisection(f,a,b,tol):\n",
    "# Inputs:\n",
    "# f,a,b - function and endpoints of initial interval\n",
    "# tol - bisection stops when interval length < tol\n",
    "# Returns:\n",
    "# astar - approximation of root\n",
    "# ier - error message\n",
    "# - ier = 1 => Failed\n",
    "# - ier = 0 == success\n",
    "# first verify there is a root we can find in the interval\n",
    "    fa = f(a)\n",
    "    fb = f(b)\n",
    "    if (fa*fb>0):\n",
    "        ier = 1\n",
    "        astar = a\n",
    "        return [astar, ier]\n",
    "    # verify end points are not a root\n",
    "    if (fa == 0):\n",
    "        astar = a\n",
    "        ier =0\n",
    "        return [astar, ier]\n",
    "    if (fb ==0):\n",
    "        astar = b\n",
    "        ier = 0\n",
    "        return [astar, ier]\n",
    "    count = 0\n",
    "    d = 0.5*(a+b)\n",
    "    while (abs(d-a)> tol):\n",
    "        fd = f(d)\n",
    "        if (fd ==0):\n",
    "            astar = d\n",
    "            ier = 0\n",
    "            return [astar, ier]\n",
    "        if (fa*fd<0):\n",
    "            b = d\n",
    "        else:\n",
    "            a = d\n",
    "            fa = fd\n",
    "        d = 0.5*(a+b)\n",
    "        count = count +1\n",
    "        # print('abs(d-a) = ', abs(d-a))\n",
    "    astar = d\n",
    "    ier = 0\n",
    "    return [astar, ier]"
   ]
  },
  {
   "cell_type": "markdown",
   "metadata": {},
   "source": [
    "<h3>Problem 1"
   ]
  },
  {
   "cell_type": "markdown",
   "metadata": {},
   "source": [
    "<h4>a)"
   ]
  },
  {
   "cell_type": "markdown",
   "metadata": {},
   "source": [
    "The function to solve is $f(x) = 35erf(x/(2 \\sqrt{\\alpha t}))-15$\n",
    "\n",
    "\n",
    "$f'(x)=\\frac{35}{2\\sqrt{\\alpha t}}e^{-x^2/(4 \\alpha t)}$"
   ]
  },
  {
   "cell_type": "code",
   "execution_count": 2,
   "metadata": {},
   "outputs": [],
   "source": [
    "x11=np.linspace(0,10,10000)\n",
    "alpha11 = 0.138e-6\n",
    "t11 = 5184000\n",
    "f11= lambda x: 35*sp.special.erf(x/(2*np.sqrt(alpha11*t11)))-15\n",
    "df11 = lambda x: (35/(2*np.sqrt(alpha11*t11)))*np.exp(-x**2/(4*alpha11*t11))"
   ]
  },
  {
   "cell_type": "code",
   "execution_count": 3,
   "metadata": {},
   "outputs": [
    {
     "data": {
      "text/plain": [
       "Text(0, 0.5, 'f(x)')"
      ]
     },
     "execution_count": 3,
     "metadata": {},
     "output_type": "execute_result"
    },
    {
     "data": {
      "image/png": "[encoded data removed]",
      "text/plain": [
       "<Figure size 640x480 with 1 Axes>"
      ]
     },
     "metadata": {},
     "output_type": "display_data"
    }
   ],
   "source": [
    "plt.plot(x11,f11(x11))\n",
    "plt.xlabel('X')\n",
    "plt.ylabel(\"f(x)\")"
   ]
  },
  {
   "cell_type": "markdown",
   "metadata": {},
   "source": [
    "<h4>b)"
   ]
  },
  {
   "cell_type": "code",
   "execution_count": 4,
   "metadata": {},
   "outputs": [
    {
     "name": "stdout",
     "output_type": "stream",
     "text": [
      "depth =  0.6769618544819167\n"
     ]
    }
   ],
   "source": [
    "depth, error = bisection(f11,0,10,1e-13)\n",
    "print('depth = ', depth)"
   ]
  },
  {
   "cell_type": "markdown",
   "metadata": {},
   "source": [
    "This makes sense, as our graph is also roughly showing that point as a zero."
   ]
  },
  {
   "cell_type": "markdown",
   "metadata": {},
   "source": [
    "<h4>c)"
   ]
  },
  {
   "cell_type": "code",
   "execution_count": 5,
   "metadata": {},
   "outputs": [
    {
     "name": "stdout",
     "output_type": "stream",
     "text": [
      "Newton method converged succesfully, niter=15, nfun=32, f(r)=3.4e-13\n"
     ]
    },
    {
     "data": {
      "text/plain": [
       "(0.6769618544819533,\n",
       " array([0.01      , 0.72371999, 0.67034388, 0.67779986, 0.67685408,\n",
       "        0.67697569, 0.67696008, 0.67696208, 0.67696183, 0.67696186,\n",
       "        0.67696185, 0.67696185, 0.67696185, 0.67696185, 0.67696185,\n",
       "        0.67696185]),\n",
       " 32)"
      ]
     },
     "execution_count": 5,
     "metadata": {},
     "output_type": "execute_result"
    }
   ],
   "source": [
    "newton.newton_method(f11,df11,0.01,1e-13,100)"
   ]
  },
  {
   "cell_type": "markdown",
   "metadata": {},
   "source": [
    "Converges succesfully."
   ]
  },
  {
   "cell_type": "code",
   "execution_count": 6,
   "metadata": {},
   "outputs": [
    {
     "name": "stdout",
     "output_type": "stream",
     "text": [
      "1.3770983942531758e-14\n"
     ]
    }
   ],
   "source": [
    "print(df11(10))"
   ]
  },
  {
   "cell_type": "code",
   "execution_count": 7,
   "metadata": {},
   "outputs": [
    {
     "data": {
      "text/plain": [
       "(10, array([10]), 2)"
      ]
     },
     "execution_count": 7,
     "metadata": {},
     "output_type": "execute_result"
    }
   ],
   "source": [
    "newton.newton_method(f11,df11,10,1e-13,100)"
   ]
  },
  {
   "cell_type": "markdown",
   "metadata": {},
   "source": [
    "Here the function breaks as $\\frac{df}{dx}<1*10^{-13}$"
   ]
  },
  {
   "cell_type": "markdown",
   "metadata": {},
   "source": [
    "<h3>Problem 2"
   ]
  },
  {
   "cell_type": "markdown",
   "metadata": {},
   "source": [
    "<h4>a)"
   ]
  },
  {
   "cell_type": "markdown",
   "metadata": {},
   "source": []
  },
  {
   "cell_type": "markdown",
   "metadata": {},
   "source": [
    "<h3>Problem 4"
   ]
  },
  {
   "cell_type": "markdown",
   "metadata": {},
   "source": [
    "<h4>i)Newtons's"
   ]
  },
  {
   "cell_type": "code",
   "execution_count": 8,
   "metadata": {},
   "outputs": [],
   "source": [
    "x4 = np.linspace(3,5,1000)\n",
    "f4 = lambda x: np.exp(3*x)-27*x**6+27*x**4*np.exp(x)-9*x**2*np.exp(2*x)\n",
    "df4 = lambda x: 3*np.exp(3*x)-27*6*x**5+27*4*x**3*np.exp(x)+27*x**4*np.exp(x)-18*x*np.exp(2*x)-9*2*x**2*np.exp(2*x)"
   ]
  },
  {
   "cell_type": "code",
   "execution_count": 9,
   "metadata": {},
   "outputs": [
    {
     "data": {
      "text/plain": [
       "[<matplotlib.lines.Line2D at 0x2867eea4810>]"
      ]
     },
     "execution_count": 9,
     "metadata": {},
     "output_type": "execute_result"
    },
    {
     "data": {
      "image/png": "[encoded data removed]",
      "text/plain": [
       "<Figure size 640x480 with 1 Axes>"
      ]
     },
     "metadata": {},
     "output_type": "display_data"
    }
   ],
   "source": [
    "plt.plot(x4,f4(x4))"
   ]
  },
  {
   "cell_type": "code",
   "execution_count": 10,
   "metadata": {},
   "outputs": [
    {
     "name": "stdout",
     "output_type": "stream",
     "text": [
      "Newton method converged succesfully, niter=50, nfun=102, f(r)=0.0e+00\n"
     ]
    },
    {
     "data": {
      "text/plain": [
       "(3.733060006927688,\n",
       " array([4.        , 3.92812038, 3.87280282, 3.83145651, 3.80135832,\n",
       "        3.77993501, 3.76495935, 3.75463482, 3.74758922, 3.74281624,\n",
       "        3.73959936, 3.7374389 , 3.73599143, 3.73502323, 3.73437632,\n",
       "        3.73394441, 3.73365618, 3.7334639 , 3.73333563, 3.73325007,\n",
       "        3.73319315, 3.73315506, 3.73312959, 3.73311247, 3.7331018 ,\n",
       "        3.73309412, 3.73308246, 3.73319502, 3.73315648, 3.73313039,\n",
       "        3.73311279, 3.73310465, 3.7330905 , 3.73308042, 3.73239736,\n",
       "        3.73262473, 3.73277622, 3.73287718, 3.73294441, 3.73298917,\n",
       "        3.73301876, 3.73303886, 3.73305202, 3.73306656, 3.7330751 ,\n",
       "        3.73316115, 3.733134  , 3.73311556, 3.73310463, 3.73309046,\n",
       "        3.73306001]),\n",
       " 102)"
      ]
     },
     "execution_count": 10,
     "metadata": {},
     "output_type": "execute_result"
    }
   ],
   "source": [
    "newton.newton_method(f4,df4,4,1e-13,1000)"
   ]
  },
  {
   "cell_type": "code",
   "execution_count": 11,
   "metadata": {},
   "outputs": [
    {
     "name": "stdout",
     "output_type": "stream",
     "text": [
      "Secant method converged succesfully, niter=38, nfun=40, f(r)=0.0e+00\n"
     ]
    },
    {
     "data": {
      "text/plain": [
       "(3.733066621214533,\n",
       " array([5.        , 3.00166963, 3.00333534, 4.08841815, 3.30462432,\n",
       "        3.43336334, 3.56200094, 3.60936402, 3.64544772, 3.66884354,\n",
       "        3.68582134, 3.69799039, 3.70692778, 3.71351725, 3.71841327,\n",
       "        3.72206413, 3.72479567, 3.72684385, 3.72838227, 3.72953923,\n",
       "        3.73041014, 3.73106617, 3.73156061, 3.7319334 , 3.73221455,\n",
       "        3.73242665, 3.73258667, 3.73270742, 3.73279855, 3.73286728,\n",
       "        3.73291928, 3.73295827, 3.73298798, 3.73301018, 3.73302793,\n",
       "        3.73304001, 3.73304749, 3.73305945, 3.73306662]),\n",
       " 40)"
      ]
     },
     "execution_count": 11,
     "metadata": {},
     "output_type": "execute_result"
    }
   ],
   "source": [
    "secant.secant_method(f4,3,5,1e-13,1000)"
   ]
  },
  {
   "cell_type": "code",
   "execution_count": 12,
   "metadata": {},
   "outputs": [
    {
     "name": "stdout",
     "output_type": "stream",
     "text": [
      "287.2543140879716\n",
      "287.2543140879716\n",
      "Newton method converged succesfully, niter=50, nfun=102, f(r)=0.0e+00\n"
     ]
    },
    {
     "ename": "RecursionError",
     "evalue": "maximum recursion depth exceeded",
     "output_type": "error",
     "traceback": [
      "\u001b[1;31m---------------------------------------------------------------------------\u001b[0m",
      "\u001b[1;31mRecursionError\u001b[0m                            Traceback (most recent call last)",
      "Cell \u001b[1;32mIn[12], line 1\u001b[0m\n\u001b[1;32m----> 1\u001b[0m \u001b[43mnewton\u001b[49m\u001b[38;5;241;43m.\u001b[39;49m\u001b[43mmod_newton_method\u001b[49m\u001b[43m(\u001b[49m\u001b[43mf4\u001b[49m\u001b[43m,\u001b[49m\u001b[43mdf4\u001b[49m\u001b[43m,\u001b[49m\u001b[38;5;241;43m4\u001b[39;49m\u001b[43m,\u001b[49m\u001b[38;5;241;43m1e-13\u001b[39;49m\u001b[43m,\u001b[49m\u001b[38;5;241;43m1000\u001b[39;49m\u001b[43m)\u001b[49m\n",
      "File \u001b[1;32mc:\\Users\\xman7\\OneDrive - UCB-O365\\Documents\\APPM4600\\Homework\\Homework4\\newton_method_script.py:86\u001b[0m, in \u001b[0;36mmod_newton_method\u001b[1;34m(f, df, x0, tol, nmax, verb)\u001b[0m\n\u001b[0;32m     83\u001b[0m rnm \u001b[38;5;241m=\u001b[39m np\u001b[38;5;241m.\u001b[39mappend(rnm,rn)\n\u001b[0;32m     84\u001b[0m nfunm \u001b[38;5;241m=\u001b[39m nfunm\u001b[38;5;241m+\u001b[39mnfun\n\u001b[1;32m---> 86\u001b[0m \u001b[38;5;28mprint\u001b[39m(\u001b[43mfnew\u001b[49m\u001b[43m(\u001b[49m\u001b[43mr\u001b[49m\u001b[43m)\u001b[49m)\n\u001b[0;32m     87\u001b[0m \u001b[38;5;28mprint\u001b[39m(fnew(rn[\u001b[38;5;241m-\u001b[39m\u001b[38;5;241m1\u001b[39m]))\n\u001b[0;32m     89\u001b[0m \u001b[38;5;28;01mwhile\u001b[39;00m fnew(r)\u001b[38;5;241m-\u001b[39mfnew(rn[\u001b[38;5;241m-\u001b[39m\u001b[38;5;241m1\u001b[39m]) \u001b[38;5;241m!=\u001b[39m \u001b[38;5;241m0\u001b[39m :\n",
      "File \u001b[1;32mc:\\Users\\xman7\\OneDrive - UCB-O365\\Documents\\APPM4600\\Homework\\Homework4\\newton_method_script.py:81\u001b[0m, in \u001b[0;36mmod_newton_method.<locals>.<lambda>\u001b[1;34m(x)\u001b[0m\n\u001b[0;32m     79\u001b[0m \u001b[38;5;28mprint\u001b[39m(fnew(rn[\u001b[38;5;241m-\u001b[39m\u001b[38;5;241m1\u001b[39m]))\n\u001b[0;32m     80\u001b[0m r,rn,nfun \u001b[38;5;241m=\u001b[39m newton_method(f,df,x0,tol,nmax,verb)\n\u001b[1;32m---> 81\u001b[0m fnew \u001b[38;5;241m=\u001b[39m \u001b[38;5;28;01mlambda\u001b[39;00m x: \u001b[43mf\u001b[49m\u001b[43m(\u001b[49m\u001b[43mx\u001b[49m\u001b[43m)\u001b[49m\u001b[38;5;241m/\u001b[39m(x\u001b[38;5;241m-\u001b[39mr)\n\u001b[0;32m     82\u001b[0m f \u001b[38;5;241m=\u001b[39m fnew\n\u001b[0;32m     83\u001b[0m rnm \u001b[38;5;241m=\u001b[39m np\u001b[38;5;241m.\u001b[39mappend(rnm,rn)\n",
      "File \u001b[1;32mc:\\Users\\xman7\\OneDrive - UCB-O365\\Documents\\APPM4600\\Homework\\Homework4\\newton_method_script.py:81\u001b[0m, in \u001b[0;36mmod_newton_method.<locals>.<lambda>\u001b[1;34m(x)\u001b[0m\n\u001b[0;32m     79\u001b[0m \u001b[38;5;28mprint\u001b[39m(fnew(rn[\u001b[38;5;241m-\u001b[39m\u001b[38;5;241m1\u001b[39m]))\n\u001b[0;32m     80\u001b[0m r,rn,nfun \u001b[38;5;241m=\u001b[39m newton_method(f,df,x0,tol,nmax,verb)\n\u001b[1;32m---> 81\u001b[0m fnew \u001b[38;5;241m=\u001b[39m \u001b[38;5;28;01mlambda\u001b[39;00m x: \u001b[43mf\u001b[49m\u001b[43m(\u001b[49m\u001b[43mx\u001b[49m\u001b[43m)\u001b[49m\u001b[38;5;241m/\u001b[39m(x\u001b[38;5;241m-\u001b[39mr)\n\u001b[0;32m     82\u001b[0m f \u001b[38;5;241m=\u001b[39m fnew\n\u001b[0;32m     83\u001b[0m rnm \u001b[38;5;241m=\u001b[39m np\u001b[38;5;241m.\u001b[39mappend(rnm,rn)\n",
      "    \u001b[1;31m[... skipping similar frames: mod_newton_method.<locals>.<lambda> at line 81 (2969 times)]\u001b[0m\n",
      "File \u001b[1;32mc:\\Users\\xman7\\OneDrive - UCB-O365\\Documents\\APPM4600\\Homework\\Homework4\\newton_method_script.py:81\u001b[0m, in \u001b[0;36mmod_newton_method.<locals>.<lambda>\u001b[1;34m(x)\u001b[0m\n\u001b[0;32m     79\u001b[0m \u001b[38;5;28mprint\u001b[39m(fnew(rn[\u001b[38;5;241m-\u001b[39m\u001b[38;5;241m1\u001b[39m]))\n\u001b[0;32m     80\u001b[0m r,rn,nfun \u001b[38;5;241m=\u001b[39m newton_method(f,df,x0,tol,nmax,verb)\n\u001b[1;32m---> 81\u001b[0m fnew \u001b[38;5;241m=\u001b[39m \u001b[38;5;28;01mlambda\u001b[39;00m x: \u001b[43mf\u001b[49m\u001b[43m(\u001b[49m\u001b[43mx\u001b[49m\u001b[43m)\u001b[49m\u001b[38;5;241m/\u001b[39m(x\u001b[38;5;241m-\u001b[39mr)\n\u001b[0;32m     82\u001b[0m f \u001b[38;5;241m=\u001b[39m fnew\n\u001b[0;32m     83\u001b[0m rnm \u001b[38;5;241m=\u001b[39m np\u001b[38;5;241m.\u001b[39mappend(rnm,rn)\n",
      "\u001b[1;31mRecursionError\u001b[0m: maximum recursion depth exceeded"
     ]
    }
   ],
   "source": [
    "newton.mod_newton_method(f4,df4,4,1e-13,1000)"
   ]
  },
  {
   "cell_type": "markdown",
   "metadata": {},
   "source": []
  }
 ],
 "metadata": {
  "kernelspec": {
   "display_name": "Python 3",
   "language": "python",
   "name": "python3"
  },
  "language_info": {
   "codemirror_mode": {
    "name": "ipython",
    "version": 3
   },
   "file_extension": ".py",
   "mimetype": "text/x-python",
   "name": "python",
   "nbconvert_exporter": "python",
   "pygments_lexer": "ipython3",
   "version": "3.11.0"
  }
 },
 "nbformat": 4,
 "nbformat_minor": 2
}
