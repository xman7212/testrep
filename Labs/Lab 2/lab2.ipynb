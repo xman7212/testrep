{
 "cells": [
  {
   "cell_type": "code",
   "execution_count": 1,
   "metadata": {},
   "outputs": [],
   "source": [
    "import numpy as np\n",
    "import matplotlib.pyplot as plt"
   ]
  },
  {
   "cell_type": "code",
   "execution_count": 29,
   "metadata": {},
   "outputs": [],
   "source": [
    "def driver(F='Nan',A='Nan',B='Nan'):\n",
    "    # use routines\n",
    "    f = lambda x: (x-1)*x**2\n",
    "    a = 0.5\n",
    "    b = 2\n",
    "\n",
    "    if F =='Nan':\n",
    "        F=f\n",
    "    if A =='Nan':\n",
    "        A=a\n",
    "    if B =='Nan':\n",
    "        B=b\n",
    "\n",
    "    # f = lambda x: np.sin(x)\n",
    "    # a = 0.1\n",
    "    # b = np.pi+0.1\n",
    "    tol = 1e-5\n",
    "    [astar,ier] = bisection(F,A,B,tol)\n",
    "    print('the approximate root is',astar)\n",
    "    print('the error message reads:',ier)\n",
    "    print('f(astar) =', F(astar))\n",
    "# define routines\n",
    "def bisection(f,a,b,tol):\n",
    "# Inputs:\n",
    "# f,a,b - function and endpoints of initial interval\n",
    "# tol - bisection stops when interval length < tol\n",
    "# Returns:\n",
    "# astar - approximation of root\n",
    "# ier - error message\n",
    "# - ier = 1 => Failed\n",
    "# - ier = 0 == success\n",
    "# first verify there is a root we can find in the interval\n",
    "    fa = f(a)\n",
    "    fb = f(b)\n",
    "    if (fa*fb>0):\n",
    "        ier = 1\n",
    "        astar = a\n",
    "        return [astar, ier]\n",
    "    # verify end points are not a root\n",
    "    if (fa == 0):\n",
    "        astar = a\n",
    "        ier =0\n",
    "        return [astar, ier]\n",
    "    if (fb ==0):\n",
    "        astar = b\n",
    "        ier = 0\n",
    "        return [astar, ier]\n",
    "    count = 0\n",
    "    d = 0.5*(a+b)\n",
    "    while (abs(d-a)> tol):\n",
    "        fd = f(d)\n",
    "        if (fd ==0):\n",
    "            astar = d\n",
    "            ier = 0\n",
    "            return [astar, ier]\n",
    "        if (fa*fd<0):\n",
    "            b = d\n",
    "        else:\n",
    "            a = d\n",
    "            fa = fd\n",
    "        d = 0.5*(a+b)\n",
    "        count = count +1\n",
    "        # print('abs(d-a) = ', abs(d-a))\n",
    "    astar = d\n",
    "    ier = 0\n",
    "    return [astar, ier]"
   ]
  },
  {
   "cell_type": "code",
   "execution_count": 34,
   "metadata": {},
   "outputs": [],
   "source": [
    "def driver2(f1='Nan',f2='Nan',x0='Nan'):\n",
    "# test functions\n",
    "    F1 = lambda x: 1+0.5*np.sin(x)\n",
    "    # fixed point is alpha1 = 1.4987....\n",
    "    F2 = lambda x: 3+2*np.sin(x)\n",
    "    #fixed point is alpha2 = 3.09...\n",
    "    Nmax = 100\n",
    "    tol = 1e-6\n",
    "    # test f1 '''\n",
    "    X0 = 0.0\n",
    "\n",
    "    if f1 =='Nan':\n",
    "        f1=F1\n",
    "    if f2 =='Nan':\n",
    "        f2=F2\n",
    "    if x0 =='Nan':\n",
    "        x0=X0\n",
    "    [xstar,ier] = fixedpt(f1,x0,tol,Nmax)\n",
    "    print('the approximate fixed point is:',xstar)\n",
    "    print('f1(xstar):',f1(xstar))\n",
    "    print('Error message reads:',ier)\n",
    "    #test f2 '''\n",
    "    x0 = 0.0\n",
    "    [xstar,ier] = fixedpt(f2,x0,tol,Nmax)\n",
    "    print('the approximate fixed point is:',xstar)\n",
    "    print('f2(xstar):',f2(xstar))\n",
    "    print('Error message reads:',ier)\n",
    "\n",
    "    # define routines\n",
    "def fixedpt(f,x0,tol,Nmax):\n",
    "    ''' x0 = initial guess'''\n",
    "    ''' Nmax = max number of iterations'''\n",
    "    ''' tol = stopping tolerance'''\n",
    "    count = 0\n",
    "    while (count <Nmax):\n",
    "        count = count +1\n",
    "        x1 = f(x0)\n",
    "        if (abs(x1-x0) <tol):\n",
    "            xstar = x1\n",
    "            ier = 0\n",
    "            return [xstar,ier]\n",
    "        x0 = x1\n",
    "    xstar = x1\n",
    "    ier = 1\n",
    "    return [xstar, ier]"
   ]
  },
  {
   "cell_type": "code",
   "execution_count": 20,
   "metadata": {},
   "outputs": [
    {
     "name": "stdout",
     "output_type": "stream",
     "text": [
      "the approximate root is 0.9999999701976776\n",
      "the error message reads: 0\n",
      "f(astar) = -2.98023206113385e-08\n"
     ]
    }
   ],
   "source": [
    "\n",
    "driver('Nan', 0.5, 2)"
   ]
  },
  {
   "cell_type": "code",
   "execution_count": 21,
   "metadata": {},
   "outputs": [
    {
     "name": "stdout",
     "output_type": "stream",
     "text": [
      "the approximate root is -1\n",
      "the error message reads: 1\n",
      "f(astar) = -2\n"
     ]
    }
   ],
   "source": [
    "driver('Nan', -1,0.5)"
   ]
  },
  {
   "cell_type": "code",
   "execution_count": 22,
   "metadata": {},
   "outputs": [
    {
     "name": "stdout",
     "output_type": "stream",
     "text": [
      "the approximate root is 0.9999999701976776\n",
      "the error message reads: 0\n",
      "f(astar) = -2.98023206113385e-08\n"
     ]
    }
   ],
   "source": [
    "driver('Nan',-1,2)"
   ]
  },
  {
   "cell_type": "markdown",
   "metadata": {},
   "source": [
    "These methods work for the first and last interval, but the second does not work as the zero at x=0 does not cross the x-axis. this can be seen in the zoomed in plot below."
   ]
  },
  {
   "cell_type": "code",
   "execution_count": 27,
   "metadata": {},
   "outputs": [
    {
     "data": {
      "text/plain": [
       "(-0.05, 0.05)"
      ]
     },
     "execution_count": 27,
     "metadata": {},
     "output_type": "execute_result"
    },
    {
     "data": {
      "image/png": "[encoded data removed]",
      "text/plain": [
       "<Figure size 640x480 with 1 Axes>"
      ]
     },
     "metadata": {},
     "output_type": "display_data"
    }
   ],
   "source": [
    "xplot=np.linspace(-1,2,1000)\n",
    "fplot=(xplot-1)*xplot**2\n",
    "plt.plot(xplot,fplot)\n",
    "plt.xlim(-0.05,0.05)\n",
    "plt.ylim(-0.05,0.05)"
   ]
  },
  {
   "cell_type": "markdown",
   "metadata": {},
   "source": [
    "<h4>Part 2"
   ]
  },
  {
   "cell_type": "markdown",
   "metadata": {},
   "source": [
    "<h5>a)"
   ]
  },
  {
   "cell_type": "code",
   "execution_count": 30,
   "metadata": {},
   "outputs": [
    {
     "name": "stdout",
     "output_type": "stream",
     "text": [
      "the approximate root is 1.0000030517578122\n",
      "the error message reads: 0\n",
      "f(astar) = 2.4414006618542327e-05\n"
     ]
    }
   ],
   "source": [
    "fa=lambda x:(x-1)*(x-3)*(x-5)\n",
    "driver(fa,0,2.4)"
   ]
  },
  {
   "cell_type": "markdown",
   "metadata": {},
   "source": [
    "b)"
   ]
  },
  {
   "cell_type": "code",
   "execution_count": 31,
   "metadata": {},
   "outputs": [
    {
     "name": "stdout",
     "output_type": "stream",
     "text": [
      "the approximate root is 0\n",
      "the error message reads: 1\n",
      "f(astar) = -3\n"
     ]
    }
   ],
   "source": [
    "fb=lambda x: (x-3)*(x-1)**2\n",
    "driver(fb,0,2)"
   ]
  },
  {
   "cell_type": "markdown",
   "metadata": {},
   "source": [
    "c)"
   ]
  },
  {
   "cell_type": "code",
   "execution_count": 32,
   "metadata": {},
   "outputs": [
    {
     "name": "stdout",
     "output_type": "stream",
     "text": [
      "the approximate root is 0\n",
      "the error message reads: 0\n",
      "f(astar) = 0.0\n"
     ]
    }
   ],
   "source": [
    "fc = lambda x: np.sin(x)\n",
    "driver(fc,0,0.1)"
   ]
  },
  {
   "cell_type": "code",
   "execution_count": 33,
   "metadata": {},
   "outputs": [
    {
     "name": "stdout",
     "output_type": "stream",
     "text": [
      "the approximate root is 0.5\n",
      "the error message reads: 1\n",
      "f(astar) = 0.479425538604203\n"
     ]
    }
   ],
   "source": [
    "driver(fc,0.5,3*np.pi/4)"
   ]
  },
  {
   "cell_type": "markdown",
   "metadata": {},
   "source": [
    "These results make sense as the ones with a lot of subtraction lead to high error, and the bisection method doesn't work for the ones where our root doesnt cross the x-axis. It achieved the desired accuracy for the ones that worked."
   ]
  },
  {
   "cell_type": "markdown",
   "metadata": {},
   "source": [
    "<h4>Problem 3"
   ]
  },
  {
   "cell_type": "code",
   "execution_count": 36,
   "metadata": {},
   "outputs": [
    {
     "ename": "ZeroDivisionError",
     "evalue": "division by zero",
     "output_type": "error",
     "traceback": [
      "\u001b[1;31m---------------------------------------------------------------------------\u001b[0m",
      "\u001b[1;31mZeroDivisionError\u001b[0m                         Traceback (most recent call last)",
      "Cell \u001b[1;32mIn[36], line 3\u001b[0m\n\u001b[0;32m      1\u001b[0m f31 \u001b[38;5;241m=\u001b[39m \u001b[38;5;28;01mlambda\u001b[39;00m x: x\u001b[38;5;241m*\u001b[39m(\u001b[38;5;241m1\u001b[39m\u001b[38;5;241m+\u001b[39m(\u001b[38;5;241m7\u001b[39m\u001b[38;5;241m-\u001b[39mx\u001b[38;5;241m*\u001b[39m\u001b[38;5;241m*\u001b[39m\u001b[38;5;241m5\u001b[39m)\u001b[38;5;241m/\u001b[39m(x\u001b[38;5;241m*\u001b[39m\u001b[38;5;241m*\u001b[39m\u001b[38;5;241m2\u001b[39m))\n\u001b[0;32m      2\u001b[0m f32 \u001b[38;5;241m=\u001b[39m \u001b[38;5;28;01mlambda\u001b[39;00m x: x\u001b[38;5;241m-\u001b[39m(x\u001b[38;5;241m*\u001b[39m\u001b[38;5;241m*\u001b[39m\u001b[38;5;241m5\u001b[39m\u001b[38;5;241m-\u001b[39m\u001b[38;5;241m7\u001b[39m)\u001b[38;5;241m/\u001b[39m(x\u001b[38;5;241m*\u001b[39m\u001b[38;5;241m*\u001b[39m\u001b[38;5;241m2\u001b[39m)\n\u001b[1;32m----> 3\u001b[0m \u001b[43mdriver2\u001b[49m\u001b[43m(\u001b[49m\u001b[43mf31\u001b[49m\u001b[43m,\u001b[49m\u001b[43mf32\u001b[49m\u001b[43m,\u001b[49m\u001b[38;5;241;43m0\u001b[39;49m\u001b[43m)\u001b[49m\n",
      "Cell \u001b[1;32mIn[34], line 18\u001b[0m, in \u001b[0;36mdriver2\u001b[1;34m(f1, f2, x0)\u001b[0m\n\u001b[0;32m     16\u001b[0m \u001b[38;5;28;01mif\u001b[39;00m x0 \u001b[38;5;241m==\u001b[39m\u001b[38;5;124m'\u001b[39m\u001b[38;5;124mNan\u001b[39m\u001b[38;5;124m'\u001b[39m:\n\u001b[0;32m     17\u001b[0m     x0\u001b[38;5;241m=\u001b[39mX0\n\u001b[1;32m---> 18\u001b[0m [xstar,ier] \u001b[38;5;241m=\u001b[39m \u001b[43mfixedpt\u001b[49m\u001b[43m(\u001b[49m\u001b[43mf1\u001b[49m\u001b[43m,\u001b[49m\u001b[43mx0\u001b[49m\u001b[43m,\u001b[49m\u001b[43mtol\u001b[49m\u001b[43m,\u001b[49m\u001b[43mNmax\u001b[49m\u001b[43m)\u001b[49m\n\u001b[0;32m     19\u001b[0m \u001b[38;5;28mprint\u001b[39m(\u001b[38;5;124m'\u001b[39m\u001b[38;5;124mthe approximate fixed point is:\u001b[39m\u001b[38;5;124m'\u001b[39m,xstar)\n\u001b[0;32m     20\u001b[0m \u001b[38;5;28mprint\u001b[39m(\u001b[38;5;124m'\u001b[39m\u001b[38;5;124mf1(xstar):\u001b[39m\u001b[38;5;124m'\u001b[39m,f1(xstar))\n",
      "Cell \u001b[1;32mIn[34], line 37\u001b[0m, in \u001b[0;36mfixedpt\u001b[1;34m(f, x0, tol, Nmax)\u001b[0m\n\u001b[0;32m     35\u001b[0m \u001b[38;5;28;01mwhile\u001b[39;00m (count \u001b[38;5;241m<\u001b[39mNmax):\n\u001b[0;32m     36\u001b[0m     count \u001b[38;5;241m=\u001b[39m count \u001b[38;5;241m+\u001b[39m\u001b[38;5;241m1\u001b[39m\n\u001b[1;32m---> 37\u001b[0m     x1 \u001b[38;5;241m=\u001b[39m \u001b[43mf\u001b[49m\u001b[43m(\u001b[49m\u001b[43mx0\u001b[49m\u001b[43m)\u001b[49m\n\u001b[0;32m     38\u001b[0m     \u001b[38;5;28;01mif\u001b[39;00m (\u001b[38;5;28mabs\u001b[39m(x1\u001b[38;5;241m-\u001b[39mx0) \u001b[38;5;241m<\u001b[39mtol):\n\u001b[0;32m     39\u001b[0m         xstar \u001b[38;5;241m=\u001b[39m x1\n",
      "Cell \u001b[1;32mIn[36], line 1\u001b[0m, in \u001b[0;36m<lambda>\u001b[1;34m(x)\u001b[0m\n\u001b[1;32m----> 1\u001b[0m f31 \u001b[38;5;241m=\u001b[39m \u001b[38;5;28;01mlambda\u001b[39;00m x: x\u001b[38;5;241m*\u001b[39m(\u001b[38;5;241m1\u001b[39m\u001b[38;5;241m+\u001b[39m\u001b[43m(\u001b[49m\u001b[38;5;241;43m7\u001b[39;49m\u001b[38;5;241;43m-\u001b[39;49m\u001b[43mx\u001b[49m\u001b[38;5;241;43m*\u001b[39;49m\u001b[38;5;241;43m*\u001b[39;49m\u001b[38;5;241;43m5\u001b[39;49m\u001b[43m)\u001b[49m\u001b[38;5;241;43m/\u001b[39;49m\u001b[43m(\u001b[49m\u001b[43mx\u001b[49m\u001b[38;5;241;43m*\u001b[39;49m\u001b[38;5;241;43m*\u001b[39;49m\u001b[38;5;241;43m2\u001b[39;49m\u001b[43m)\u001b[49m)\n\u001b[0;32m      2\u001b[0m f32 \u001b[38;5;241m=\u001b[39m \u001b[38;5;28;01mlambda\u001b[39;00m x: x\u001b[38;5;241m-\u001b[39m(x\u001b[38;5;241m*\u001b[39m\u001b[38;5;241m*\u001b[39m\u001b[38;5;241m5\u001b[39m\u001b[38;5;241m-\u001b[39m\u001b[38;5;241m7\u001b[39m)\u001b[38;5;241m/\u001b[39m(x\u001b[38;5;241m*\u001b[39m\u001b[38;5;241m*\u001b[39m\u001b[38;5;241m2\u001b[39m)\n\u001b[0;32m      3\u001b[0m driver2(f31,f32,\u001b[38;5;241m0\u001b[39m)\n",
      "\u001b[1;31mZeroDivisionError\u001b[0m: division by zero"
     ]
    }
   ],
   "source": [
    "f31 = lambda x: x*(1+(7-x**5)/(x**2))\n",
    "f32 = lambda x: x-(x**5-7)/(x**2)\n",
    "driver2(f31,f32,0)"
   ]
  },
  {
   "cell_type": "code",
   "execution_count": null,
   "metadata": {},
   "outputs": [],
   "source": []
  }
 ],
 "metadata": {
  "kernelspec": {
   "display_name": "Python 3",
   "language": "python",
   "name": "python3"
  },
  "language_info": {
   "codemirror_mode": {
    "name": "ipython",
    "version": 3
   },
   "file_extension": ".py",
   "mimetype": "text/x-python",
   "name": "python",
   "nbconvert_exporter": "python",
   "pygments_lexer": "ipython3",
   "version": "3.11.0"
  }
 },
 "nbformat": 4,
 "nbformat_minor": 2
}
