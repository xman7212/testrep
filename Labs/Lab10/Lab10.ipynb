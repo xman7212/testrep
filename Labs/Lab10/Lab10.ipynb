{
 "cells": [
  {
   "cell_type": "markdown",
   "metadata": {},
   "source": [
    "<h2>Lab10"
   ]
  },
  {
   "cell_type": "markdown",
   "metadata": {},
   "source": []
  },
  {
   "cell_type": "code",
   "execution_count": 18,
   "metadata": {},
   "outputs": [],
   "source": [
    "import numpy as np\n",
    "from scipy.integrate import quad\n",
    "def eval_legendre(N,x):\n",
    "    phi = np.array([1,x])\n",
    "    for n in range(1,N):\n",
    "        print(n)\n",
    "        phi_plus1= (1/(n+1))*(2*n+1)*x*phi[n]-n*phi[n-1]\n",
    "        phi = np.concatenate((phi,np.array([phi_plus1])))\n",
    "    return phi"
   ]
  },
  {
   "cell_type": "code",
   "execution_count": 17,
   "metadata": {},
   "outputs": [
    {
     "name": "stdout",
     "output_type": "stream",
     "text": [
      "1\n"
     ]
    },
    {
     "data": {
      "text/plain": [
       "array([1. , 1. , 0.5])"
      ]
     },
     "execution_count": 17,
     "metadata": {},
     "output_type": "execute_result"
    }
   ],
   "source": [
    "eval_legendre(2,1)"
   ]
  },
  {
   "cell_type": "markdown",
   "metadata": {},
   "source": []
  },
  {
   "cell_type": "markdown",
   "metadata": {},
   "source": [
    "<h3>3)"
   ]
  },
  {
   "cell_type": "code",
   "execution_count": 19,
   "metadata": {},
   "outputs": [],
   "source": [
    "def dot_product(f1,phi,w):\n",
    "    top = lambda x: f1(x)*phi(x)*w(x)\n",
    "    bottom = lambda x: phi(x)**2*w(x)\n",
    "    return (top,bottom)"
   ]
  },
  {
   "cell_type": "code",
   "execution_count": null,
   "metadata": {},
   "outputs": [],
   "source": [
    "def coef(f,phi,w,a,b,j):\n",
    "    top,bottom = dot_product(f,phi[j],w)\n",
    "    aj = quad(top,a,b)/quad(bottom,a,b)\n",
    "    return aj\n",
    "\n",
    "\n",
    "\n"
   ]
  },
  {
   "cell_type": "markdown",
   "metadata": {},
   "source": [
    "Unsure how to use phi(x) as we made code to evaulate at specified x's, not create an array of generalized functions of x eg: phi = [n1,n2,n3,...] not [f1(x),f2(x),.....]"
   ]
  },
  {
   "cell_type": "markdown",
   "metadata": {},
   "source": []
  }
 ],
 "metadata": {
  "kernelspec": {
   "display_name": "Python 3",
   "language": "python",
   "name": "python3"
  },
  "language_info": {
   "codemirror_mode": {
    "name": "ipython",
    "version": 3
   },
   "file_extension": ".py",
   "mimetype": "text/x-python",
   "name": "python",
   "nbconvert_exporter": "python",
   "pygments_lexer": "ipython3",
   "version": "3.11.0"
  }
 },
 "nbformat": 4,
 "nbformat_minor": 2
}
